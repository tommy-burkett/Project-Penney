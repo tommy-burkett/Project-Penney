{
 "cells": [
  {
   "cell_type": "markdown",
   "id": "85d0960a-e132-447a-83f2-372fc6bf8a2f",
   "metadata": {},
   "source": [
    "## Project Penney\n",
    "Goals:\n",
    "\n",
    "- For a standard 52-card deck, compute the probability of winning/losing/drawing for player 2\n",
    "    - Compare probabilities if scoring by totals cards vs tricks\n",
    "    - Look at all 64-8=56 possible games (minus the 8 ways for players to choose the same sequence)\n",
    "    - Present the results in a heatmap\n",
    "    \n",
    "- Want results to be easily reproducible and verifiable\n",
    "    - I.e, we want to generate random decks, but will also need to store the seeds\n",
    "    \n",
    "- Want to be able to easily debug/test things\n",
    "    - I.e., if some of our numbers look suspect, be able to run a quick match of e.g, 1000 games.\n",
    "    \n",
    "- Want to make it easy to augment the existing data, for example, add an additional million random decks without having to start all the way from the beginning.\n",
    "\n",
    "- As much as possible, be efficient in terms of runtime and memory usage."
   ]
  },
  {
   "cell_type": "code",
   "execution_count": 33,
   "id": "45ca87ac-6aaf-447b-add0-d4839a706a29",
   "metadata": {},
   "outputs": [
    {
     "data": {
      "text/plain": [
       "<module 'src.helpers' from '/Users/thomasburkett/Library/CloudStorage/OneDrive-William&Mary/Year 3/Spring 2025/DATA 440 A&W/PROJECTPENNEY/src/helpers.py'>"
      ]
     },
     "execution_count": 33,
     "metadata": {},
     "output_type": "execute_result"
    }
   ],
   "source": [
    "import numpy as np\n",
    "import src.datagen\n",
    "import src.helpers\n",
    "import src.processing\n",
    "import src.visualizations\n",
    "\n",
    "from importlib import reload\n",
    "reload(src.datagen)\n",
    "reload(src.helpers)"
   ]
  },
  {
   "cell_type": "code",
   "execution_count": 135,
   "id": "f12aad10-cd6d-4abb-afd7-1f93dd3030fa",
   "metadata": {},
   "outputs": [],
   "source": [
    "# Testing the datagen file to ensure that decks are loaded\n",
    "\n",
    "n = 100000\n",
    "seed = 42\n",
    "\n",
    "src.datagen.store_data(n, seed)"
   ]
  },
  {
   "cell_type": "code",
   "execution_count": 137,
   "id": "0a955992-5882-44e5-a0cf-943f315948da",
   "metadata": {},
   "outputs": [
    {
     "data": {
      "text/plain": [
       "array([[1, 0, 1, ..., 0, 0, 0],\n",
       "       [1, 1, 0, ..., 1, 1, 0],\n",
       "       [0, 1, 0, ..., 1, 0, 0],\n",
       "       ...,\n",
       "       [1, 1, 0, ..., 1, 1, 1],\n",
       "       [1, 1, 0, ..., 1, 0, 0],\n",
       "       [0, 1, 0, ..., 0, 1, 1]])"
      ]
     },
     "execution_count": 137,
     "metadata": {},
     "output_type": "execute_result"
    }
   ],
   "source": [
    "# Testing the load_file function from src.processing\n",
    "filename = 'data/decks_42.npy'\n",
    "\n",
    "src.processing.load_file(filename)"
   ]
  },
  {
   "cell_type": "code",
   "execution_count": 139,
   "id": "d605abec-91a8-4364-8a0a-c90c8f5a4934",
   "metadata": {},
   "outputs": [
    {
     "name": "stdout",
     "output_type": "stream",
     "text": [
      "File \"data/decks_43.npy\" does not exist. Try another file.\n"
     ]
    }
   ],
   "source": [
    "# Testing the load_file function for file that does not exist\n",
    "filename = 'data/decks_43.npy'\n",
    "\n",
    "src.processing.load_file(filename)"
   ]
  },
  {
   "cell_type": "code",
   "execution_count": 141,
   "id": "e29d3842-665c-423f-924b-d36063cdd913",
   "metadata": {},
   "outputs": [
    {
     "data": {
      "text/plain": [
       "array([[1, 0, 1, ..., 0, 0, 0],\n",
       "       [1, 1, 0, ..., 1, 1, 0],\n",
       "       [0, 1, 0, ..., 1, 0, 0],\n",
       "       ...,\n",
       "       [1, 1, 0, ..., 1, 1, 1],\n",
       "       [1, 1, 0, ..., 1, 0, 0],\n",
       "       [0, 1, 0, ..., 0, 1, 1]])"
      ]
     },
     "execution_count": 141,
     "metadata": {},
     "output_type": "execute_result"
    }
   ],
   "source": [
    "# Testing the load_file function from src.processing\n",
    "filename = 'data/decks_42.npy'\n",
    "\n",
    "deck = src.processing.load_file(filename)\n",
    "deck"
   ]
  },
  {
   "cell_type": "code",
   "execution_count": 143,
   "id": "9632704f-4c84-4c5b-97d0-076f67b93602",
   "metadata": {},
   "outputs": [
    {
     "data": {
      "text/plain": [
       "(101200, 52)"
      ]
     },
     "execution_count": 143,
     "metadata": {},
     "output_type": "execute_result"
    }
   ],
   "source": [
    "deck.shape"
   ]
  },
  {
   "cell_type": "code",
   "execution_count": null,
   "id": "2f5a163c-14f6-4665-b86a-79e313148688",
   "metadata": {},
   "outputs": [],
   "source": []
  },
  {
   "cell_type": "code",
   "execution_count": null,
   "id": "439e745d-54f7-49f9-aed9-e814775769ea",
   "metadata": {},
   "outputs": [],
   "source": []
  },
  {
   "cell_type": "code",
   "execution_count": 145,
   "id": "c671112a-4df2-4866-bc0b-11cc4fe79272",
   "metadata": {},
   "outputs": [],
   "source": [
    "import numpy as np\n",
    "import os\n",
    "import matplotlib.pyplot as plt\n",
    "import seaborn as sns\n",
    "\n",
    "# Helper function to check if a combination exists in the sequence of cards\n",
    "def check_combination(sequence, combination):\n",
    "    \"\"\"Check if a combination appears in the sequence of cards.\"\"\"\n",
    "    return combination in ''.join(['R' if card == 0 else 'B' for card in sequence])\n",
    "\n",
    "# Simulate a single game of Penney's game\n",
    "def play_penney_game(player1_comb, player2_comb, deck, num_cards=52):\n",
    "    \"\"\"\n",
    "    Simulate one game of Penney's game.\n",
    "    player1_comb and player2_comb are the card combinations each player is trying to form.\n",
    "    The deck is the shuffled deck of cards.\n",
    "    \n",
    "    Returns:\n",
    "        (winner, cards_won): winner is 1 or 2, cards_won is how many cards were won by the winner.\n",
    "    \"\"\"\n",
    "    sequence = []\n",
    "    for i in range(num_cards):\n",
    "        card = deck[i]\n",
    "        sequence.append(card)\n",
    "\n",
    "        # Check if Player 1's combination appears\n",
    "        if check_combination(sequence[-len(player1_comb):], player1_comb):\n",
    "            return 1, i + 1  # Player 1 wins at card i + 1 (1-based index)\n",
    "\n",
    "        # Check if Player 2's combination appears\n",
    "        if check_combination(sequence[-len(player2_comb):], player2_comb):\n",
    "            return 2, i + 1  # Player 2 wins at card i + 1 (1-based index)\n",
    "\n",
    "    return 0, 0  # No one wins if no combination is found\n",
    "\n",
    "# Function to run a single simulation and calculate win probabilities\n",
    "def match_probabilities(decks, player1_comb, player2_comb, num_simulations=10000):\n",
    "    \"\"\"\n",
    "    Run simulations and calculate the win probabilities for player1, player2, and draws.\n",
    "    \n",
    "    Args:\n",
    "        decks: A numpy array of shuffled decks (each deck represents a game).\n",
    "        player1_comb: The combination player 1 is looking for.\n",
    "        player2_comb: The combination player 2 is looking for.\n",
    "        num_simulations: Number of games to simulate to approximate probabilities.\n",
    "    \n",
    "    Returns:\n",
    "        (prob_player1_win, prob_player2_win, prob_draw): probabilities for each outcome.\n",
    "    \"\"\"\n",
    "    results = {\"player1_win\": 0, \"player2_win\": 0, \"draw\": 0}\n",
    "    \n",
    "    for i in range(num_simulations):\n",
    "        deck = np.random.choice([0, 1], size=52)  # Simulating a shuffled deck of 52 cards (Red=0, Black=1)\n",
    "        \n",
    "        winner, _ = play_penney_game(player1_comb, player2_comb, deck)\n",
    "        \n",
    "        if winner == 1:\n",
    "            results[\"player1_win\"] += 1\n",
    "        elif winner == 2:\n",
    "            results[\"player2_win\"] += 1\n",
    "        else:\n",
    "            results[\"draw\"] += 1\n",
    "\n",
    "    # Calculate the probabilities\n",
    "    total_games = num_simulations\n",
    "    prob_player1_win = results[\"player1_win\"] / total_games\n",
    "    prob_player2_win = results[\"player2_win\"] / total_games\n",
    "    prob_draw = results[\"draw\"] / total_games\n",
    "\n",
    "    return prob_player1_win, prob_player2_win, prob_draw\n",
    "\n",
    "# Example Usage for All 56 Combinations:\n",
    "\n",
    "# List of all possible combinations (except identical ones)\n",
    "combinations = [\n",
    "    ('BBB', 'RBB'), ('BBR', 'RBB'), ('BRB', 'BBR'), ('BRR', 'BBR'), \n",
    "    ('RBB', 'RRB'), ('RBR', 'RRB'), ('RRB', 'BRR'), ('RRR', 'BRR')\n",
    "]\n",
    "\n",
    "# We will store the results in a dictionary\n",
    "results_dict = {}\n",
    "\n",
    "for player1_comb, player2_comb in combinations:\n",
    "    prob_p1_win, prob_p2_win, prob_draw = match_probabilities(decks=None,  # You can load the actual decks here\n",
    "                                                                player1_comb=player1_comb,\n",
    "                                                                player2_comb=player2_comb,\n",
    "                                                                num_simulations=10000)\n",
    "    \n",
    "    # Store the results\n",
    "    results_dict[(player1_comb, player2_comb)] = {\n",
    "        \"prob_player1_win\": prob_p1_win,\n",
    "        \"prob_player2_win\": prob_p2_win,\n",
    "        \"prob_draw\": prob_draw\n",
    "    }\n",
    "\n",
    "# Presenting the Results\n"
   ]
  },
  {
   "cell_type": "code",
   "execution_count": 147,
   "id": "69847008-37c3-4e34-8a83-c7ac64e9eaf2",
   "metadata": {},
   "outputs": [
    {
     "data": {
      "text/plain": [
       "(0.1306, 0.8694, 0.0)"
      ]
     },
     "execution_count": 147,
     "metadata": {},
     "output_type": "execute_result"
    }
   ],
   "source": [
    "player01_comb = 'BBR'\n",
    "player02_comb = 'RBB'\n",
    "\n",
    "match_probabilities(deck, player1_comb, player2_comb)"
   ]
  },
  {
   "cell_type": "code",
   "execution_count": 149,
   "id": "e7abce12-b2c0-4a19-94cc-e2329ea83fc9",
   "metadata": {},
   "outputs": [
    {
     "data": {
      "text/plain": [
       "{('BBB', 'RBB'): {'prob_player1_win': 0.1244,\n",
       "  'prob_player2_win': 0.8756,\n",
       "  'prob_draw': 0.0},\n",
       " ('BBR', 'RBB'): {'prob_player1_win': 0.2462,\n",
       "  'prob_player2_win': 0.7538,\n",
       "  'prob_draw': 0.0},\n",
       " ('BRB', 'BBR'): {'prob_player1_win': 0.3341,\n",
       "  'prob_player2_win': 0.6659,\n",
       "  'prob_draw': 0.0},\n",
       " ('BRR', 'BBR'): {'prob_player1_win': 0.3277,\n",
       "  'prob_player2_win': 0.6723,\n",
       "  'prob_draw': 0.0},\n",
       " ('RBB', 'RRB'): {'prob_player1_win': 0.3275,\n",
       "  'prob_player2_win': 0.6725,\n",
       "  'prob_draw': 0.0},\n",
       " ('RBR', 'RRB'): {'prob_player1_win': 0.336,\n",
       "  'prob_player2_win': 0.664,\n",
       "  'prob_draw': 0.0},\n",
       " ('RRB', 'BRR'): {'prob_player1_win': 0.2555,\n",
       "  'prob_player2_win': 0.7445,\n",
       "  'prob_draw': 0.0},\n",
       " ('RRR', 'BRR'): {'prob_player1_win': 0.1288,\n",
       "  'prob_player2_win': 0.8712,\n",
       "  'prob_draw': 0.0}}"
      ]
     },
     "execution_count": 149,
     "metadata": {},
     "output_type": "execute_result"
    }
   ],
   "source": [
    "results_dict"
   ]
  },
  {
   "cell_type": "code",
   "execution_count": null,
   "id": "ba9ad27d-f100-4f38-8af6-841c49c7083d",
   "metadata": {},
   "outputs": [],
   "source": []
  }
 ],
 "metadata": {
  "kernelspec": {
   "display_name": "Python 3 (ipykernel)",
   "language": "python",
   "name": "python3"
  },
  "language_info": {
   "codemirror_mode": {
    "name": "ipython",
    "version": 3
   },
   "file_extension": ".py",
   "mimetype": "text/x-python",
   "name": "python",
   "nbconvert_exporter": "python",
   "pygments_lexer": "ipython3",
   "version": "3.12.4"
  }
 },
 "nbformat": 4,
 "nbformat_minor": 5
}
