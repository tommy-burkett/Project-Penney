import numpy as np
import src.datagen
import src.helpers

from importlib import reload
reload(src.datagen)
reload(src.helpers)


# Testing the datagen file to ensure that decks are loaded

n = 100
seed = 42

src.datagen.store_data(n, seed)
